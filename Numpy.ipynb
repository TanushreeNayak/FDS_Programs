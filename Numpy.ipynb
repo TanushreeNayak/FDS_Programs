{
  "nbformat": 4,
  "nbformat_minor": 0,
  "metadata": {
    "colab": {
      "provenance": [],
      "authorship_tag": "ABX9TyMAxKYB7pL3lBdEEIFuo3s2",
      "include_colab_link": true
    },
    "kernelspec": {
      "name": "python3",
      "display_name": "Python 3"
    },
    "language_info": {
      "name": "python"
    }
  },
  "cells": [
    {
      "cell_type": "markdown",
      "metadata": {
        "id": "view-in-github",
        "colab_type": "text"
      },
      "source": [
        "<a href=\"https://colab.research.google.com/github/TanushreeNayak/FDS_Programs/blob/main/Numpy.ipynb\" target=\"_parent\"><img src=\"https://colab.research.google.com/assets/colab-badge.svg\" alt=\"Open In Colab\"/></a>"
      ]
    },
    {
      "cell_type": "code",
      "execution_count": null,
      "metadata": {
        "colab": {
          "base_uri": "https://localhost:8080/"
        },
        "id": "_1aZwta3N49t",
        "outputId": "87db8b95-b298-4749-f813-11aeb1f4eefc"
      },
      "outputs": [
        {
          "output_type": "stream",
          "name": "stdout",
          "text": [
            "1.23.5\n"
          ]
        }
      ],
      "source": [
        "import numpy as np\n",
        "print(np.__version__)"
      ]
    },
    {
      "cell_type": "code",
      "source": [
        "import numpy as np\n",
        "arr = np.array((4,5,6,7))\n",
        "print(arr)"
      ],
      "metadata": {
        "colab": {
          "base_uri": "https://localhost:8080/"
        },
        "id": "qsclivWjOQ4G",
        "outputId": "e337d796-d586-4f0d-db65-e1721d2763b4"
      },
      "execution_count": null,
      "outputs": [
        {
          "output_type": "stream",
          "name": "stdout",
          "text": [
            "[4 5 6 7]\n"
          ]
        }
      ]
    },
    {
      "cell_type": "code",
      "source": [
        "a = np.array([45,77,85,12])\n",
        "b = np.array([6,55,85,96])\n",
        "\n",
        "print(\"a1 : \",a)\n",
        "print(\"a2 : \",b)\n",
        "\n",
        "print(\"a > b\")\n",
        "print(\"a >= b\")\n",
        "print(\"b < a\")\n",
        "print(\"b <= a\")\n",
        "\n",
        "print(np.greater(a,b))\n",
        "print(np.greater_equal(a,b))\n",
        "print(np.less(b,a))\n",
        "print(np.less_equal(b,a))"
      ],
      "metadata": {
        "colab": {
          "base_uri": "https://localhost:8080/"
        },
        "id": "pC4jEXgrOulJ",
        "outputId": "83e78577-f9c9-4ad6-db08-ea7f578c8175"
      },
      "execution_count": null,
      "outputs": [
        {
          "output_type": "stream",
          "name": "stdout",
          "text": [
            "a1 :  [45 77 85 12]\n",
            "a2 :  [ 6 55 85 96]\n",
            "a > b\n",
            "a >= b\n",
            "b < a\n",
            "b <= a\n",
            "[ True  True False False]\n",
            "[ True  True  True False]\n",
            "[ True  True False False]\n",
            "[ True  True  True False]\n"
          ]
        }
      ]
    },
    {
      "cell_type": "code",
      "source": [
        "values = np.array([1,7,13,105])\n",
        "print(values.size)\n",
        "print(values.dtype)\n",
        "print(values.itemsize * values.size)"
      ],
      "metadata": {
        "colab": {
          "base_uri": "https://localhost:8080/"
        },
        "id": "HbKnb-sJUDXe",
        "outputId": "56ffb2a5-8bc5-437e-cbd4-fdfc5aabc3aa"
      },
      "execution_count": null,
      "outputs": [
        {
          "output_type": "stream",
          "name": "stdout",
          "text": [
            "4\n",
            "int64\n",
            "32\n"
          ]
        }
      ]
    },
    {
      "cell_type": "code",
      "source": [
        "collab = np.arange(30,71)\n",
        "print(collab)\n",
        "\n",
        "collab = np.arange(30,71,2)\n",
        "print(collab)"
      ],
      "metadata": {
        "colab": {
          "base_uri": "https://localhost:8080/"
        },
        "id": "ImaMRvpsXj_S",
        "outputId": "1a2d403a-2652-4b22-e20e-40e6b06d34c5"
      },
      "execution_count": null,
      "outputs": [
        {
          "output_type": "stream",
          "name": "stdout",
          "text": [
            "[30 31 32 33 34 35 36 37 38 39 40 41 42 43 44 45 46 47 48 49 50 51 52 53\n",
            " 54 55 56 57 58 59 60 61 62 63 64 65 66 67 68 69 70]\n",
            "[30 32 34 36 38 40 42 44 46 48 50 52 54 56 58 60 62 64 66 68 70]\n"
          ]
        }
      ]
    },
    {
      "cell_type": "code",
      "source": [
        "array = [45,52,96,66,32,35,46]\n",
        "\n",
        "even_numbers = [num for num in array if num % 2 == 0 and 30 <= num <= 70]\n",
        "print(\"The even numbers between 30 to 70 are:\", even_numbers)"
      ],
      "metadata": {
        "id": "U2ui_gScZRnD",
        "colab": {
          "base_uri": "https://localhost:8080/"
        },
        "outputId": "2e139c88-0093-494d-8b76-b4fde9cb59cf"
      },
      "execution_count": null,
      "outputs": [
        {
          "output_type": "stream",
          "name": "stdout",
          "text": [
            "The even numbers between 30 to 70 are: [52, 66, 32, 46]\n"
          ]
        }
      ]
    },
    {
      "cell_type": "code",
      "source": [
        "import numpy as np\n",
        "\n",
        "a = np.arange(10,22).reshape((3,4))\n",
        "print(\"Original array : \")\n",
        "print(a)\n",
        "print(\"Each element of the array is: \")\n",
        "for x in np.nditer(a):\n",
        "  print(x,end=',')"
      ],
      "metadata": {
        "colab": {
          "base_uri": "https://localhost:8080/"
        },
        "id": "7_yNU9Ya04ct",
        "outputId": "bbe29c62-7c69-4e1c-ebb7-3edc09be9765"
      },
      "execution_count": null,
      "outputs": [
        {
          "output_type": "stream",
          "name": "stdout",
          "text": [
            "Original array : \n",
            "[[10 11 12 13]\n",
            " [14 15 16 17]\n",
            " [18 19 20 21]]\n",
            "Each element of the array is: \n",
            "10,11,12,13,14,15,16,17,18,19,20,21,"
          ]
        }
      ]
    },
    {
      "cell_type": "code",
      "source": [
        "import numpy as np\n",
        "import pandas as pd\n",
        "\n",
        "data = np.array([['',\"Col1\",\"Col2\"],\n",
        "                 [\"Row1\",1,2],\n",
        "                 [\"Row2\",3,4]])\n",
        "print(pd.DataFrame(data=data[1:,1:],index = data[1:,0],columns = data[0,1:]))"
      ],
      "metadata": {
        "colab": {
          "base_uri": "https://localhost:8080/"
        },
        "id": "ES1m2mN_gOUQ",
        "outputId": "7497d0d0-7379-4b27-8220-5a3b8080101f"
      },
      "execution_count": null,
      "outputs": [
        {
          "output_type": "stream",
          "name": "stdout",
          "text": [
            "     Col1 Col2\n",
            "Row1    1    2\n",
            "Row2    3    4\n"
          ]
        }
      ]
    },
    {
      "cell_type": "code",
      "source": [
        "import numpy as np\n",
        "import pandas as pd\n",
        "\n",
        "data = np.array([['',\"Col1\",\"Col2\"],\n",
        "                 [\"Row1\",1,2],\n",
        "                 [\"Row2\",3,4]])\n",
        "print(pd.DataFrame(data=data[1:,1:]))"
      ],
      "metadata": {
        "colab": {
          "base_uri": "https://localhost:8080/"
        },
        "id": "dHjyI63uh_fh",
        "outputId": "6d02484d-1850-4842-df91-96f96ea618fb"
      },
      "execution_count": null,
      "outputs": [
        {
          "output_type": "stream",
          "name": "stdout",
          "text": [
            "   0  1\n",
            "0  1  2\n",
            "1  3  4\n"
          ]
        }
      ]
    },
    {
      "cell_type": "code",
      "source": [
        "values = np.array([1,7,13])\n",
        "print(values.itemsize)"
      ],
      "metadata": {
        "colab": {
          "base_uri": "https://localhost:8080/"
        },
        "id": "QF1kfDHvoiol",
        "outputId": "18f7f07c-de10-4777-da51-adf883a4f49a"
      },
      "execution_count": null,
      "outputs": [
        {
          "output_type": "stream",
          "name": "stdout",
          "text": [
            "8\n"
          ]
        }
      ]
    }
  ]
}